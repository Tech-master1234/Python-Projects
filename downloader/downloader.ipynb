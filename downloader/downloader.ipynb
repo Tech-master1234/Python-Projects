import requests

def download_file(url, save_path):
    try:
        print("Starting download...")
        response = requests.get(url, stream=True)
        response.raise_for_status()  # Check for HTTP errors
        print("Response received, writing to file...")
        with open(save_path, 'wb') as file:
            for chunk in response.iter_content(chunk_size=8192):
                file.write(chunk)
        print(f"Download completed successfully! Saved to: {save_path}")
    except requests.exceptions.RequestException as e:
        print(f"An error occurred: {e}")
    except IOError as e:
        print(f"File writing error: {e}")

# Example usage
url = input("Enter the URL of the file: ")
save_path = input("Enter the path to save the file: ")
download_file(url, save_path)
